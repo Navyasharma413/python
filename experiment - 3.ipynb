{
 "cells": [
  {
   "cell_type": "code",
   "execution_count": 7,
   "id": "291ac6bd-318f-4ec4-a44b-16907763bfda",
   "metadata": {},
   "outputs": [
    {
     "name": "stdin",
     "output_type": "stream",
     "text": [
      "Enter a number:  6\n"
     ]
    },
    {
     "name": "stdout",
     "output_type": "stream",
     "text": [
      "6 is even.\n"
     ]
    }
   ],
   "source": [
    "\n",
    "\n",
    "\n",
    "num = int(input(\"Enter a number: \"))\n",
    "\n",
    "\n",
    "if num % 2 == 0:\n",
    "    print(f\"{num} is even.\")\n",
    "else:\n",
    "    print(f\"{num} is not even.\")\n"
   ]
  },
  {
   "cell_type": "code",
   "execution_count": 9,
   "id": "ad4c723f-74df-40c9-8e48-e3ceef23a886",
   "metadata": {},
   "outputs": [
    {
     "name": "stdout",
     "output_type": "stream",
     "text": [
      "1/2 = 0.50000\n",
      "1/3 = 0.33333\n",
      "1/4 = 0.25000\n",
      "1/5 = 0.20000\n",
      "1/6 = 0.16667\n",
      "1/7 = 0.14286\n",
      "1/8 = 0.12500\n",
      "1/9 = 0.11111\n",
      "1/10 = 0.10000\n"
     ]
    }
   ],
   "source": [
    "# decimal_equivalents.py\n",
    "\n",
    "# Loop from 2 to 10\n",
    "for i in range(2, 11):\n",
    "    decimal_value = 1 / i\n",
    "    print(f\"1/{i} = {decimal_value:.5f}\")\n"
   ]
  },
  {
   "cell_type": "code",
   "execution_count": null,
   "id": "c9ad2190-23b1-47ea-b13b-ba8a1683a021",
   "metadata": {},
   "outputs": [],
   "source": []
  }
 ],
 "metadata": {
  "kernelspec": {
   "display_name": "Python 3 (ipykernel)",
   "language": "python",
   "name": "python3"
  },
  "language_info": {
   "codemirror_mode": {
    "name": "ipython",
    "version": 3
   },
   "file_extension": ".py",
   "mimetype": "text/x-python",
   "name": "python",
   "nbconvert_exporter": "python",
   "pygments_lexer": "ipython3",
   "version": "3.12.4"
  }
 },
 "nbformat": 4,
 "nbformat_minor": 5
}
