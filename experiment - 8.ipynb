{
 "cells": [
  {
   "cell_type": "code",
   "execution_count": 1,
   "id": "7dc02557-4084-4fe0-9700-c0daf3284f46",
   "metadata": {},
   "outputs": [
    {
     "name": "stdout",
     "output_type": "stream",
     "text": [
      "Enter the path to the text file:  Hello Wold\n"
     ]
    },
    {
     "name": "stdout",
     "output_type": "stream",
     "text": [
      "\n",
      "Reversed lines from the file:\n",
      "\n",
      "Error: File 'Hello Wold' not found.\n"
     ]
    }
   ],
   "source": [
    "# reverse_lines.py\n",
    "\n",
    "def print_reversed_lines(file_path):\n",
    "    try:\n",
    "        with open(file_path, 'r') as file:\n",
    "            for line in file:\n",
    "                # Strip newline characters and reverse the line\n",
    "                reversed_line = line.rstrip()[::-1]\n",
    "                print(reversed_line)\n",
    "    except FileNotFoundError:\n",
    "        print(f\"Error: File '{file_path}' not found.\")\n",
    "\n",
    "# Ask user for the file path\n",
    "file_path = input(\"Enter the path to the text file: \")\n",
    "print(\"\\nReversed lines from the file:\\n\")\n",
    "print_reversed_lines(file_path)\n"
   ]
  }
 ],
 "metadata": {
  "kernelspec": {
   "display_name": "Python 3 (ipykernel)",
   "language": "python",
   "name": "python3"
  },
  "language_info": {
   "codemirror_mode": {
    "name": "ipython",
    "version": 3
   },
   "file_extension": ".py",
   "mimetype": "text/x-python",
   "name": "python",
   "nbconvert_exporter": "python",
   "pygments_lexer": "ipython3",
   "version": "3.12.4"
  }
 },
 "nbformat": 4,
 "nbformat_minor": 5
}
