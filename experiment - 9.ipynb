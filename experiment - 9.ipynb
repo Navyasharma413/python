{
 "cells": [
  {
   "cell_type": "code",
   "execution_count": 3,
   "id": "e1870999-971d-47ae-ae0f-096fe52ae460",
   "metadata": {},
   "outputs": [],
   "source": [
    "def are_nearly_equal(s1, s2):\n",
    "    len1 = len(s1)\n",
    "    len2 = len(s2)\n",
    "\n",
    "    # If the length difference is more than 1, they can't be nearly equal\n",
    "    if abs(len1 - len2) > 1:\n",
    "        return False\n",
    "\n",
    "    # Identify the shorter and longer string\n",
    "    if len1 > len2:\n",
    "        s1, s2 = s2, s1  # Ensure s1 is the shorter string\n",
    "\n",
    "    i = j = 0\n",
    "    found_difference = False\n",
    "\n",
    "    while i < len(s1) and j < len(s2):\n",
    "        if s1[i] != s2[j]:\n",
    "            if found_difference:\n",
    "                return False\n",
    "            found_difference = True\n",
    "\n",
    "            if len1 == len2:\n",
    "                i += 1  # Move both pointers (substitution)\n",
    "        else:\n",
    "            i += 1  # Characters match, move shorter string pointer\n",
    "        j += 1  # Always move pointer for longer string\n",
    "\n",
    "    return True\n",
    "\n",
    "\n"
   ]
  },
  {
   "cell_type": "code",
   "execution_count": null,
   "id": "c06be8f1-93ba-45e9-b7e7-a736a70d598b",
   "metadata": {},
   "outputs": [],
   "source": [
    "def compute_gcd_lcm(a, b):\n",
    "    # Function to compute GCD using Euclidean algorithm\n",
    "    def gcd(x, y):\n",
    "        while y:\n",
    "            x, y = y, x % y\n",
    "        return x\n",
    "\n",
    "    # Compute GCD\n",
    "    gcd_value = gcd(a, b)\n",
    "\n",
    "    # Compute LCM using the formula: LCM(a, b) = |a * b| / GCD(a, b)\n",
    "    lcm_value = abs(a * b) // gcd_value\n",
    "\n",
    "    return gcd_value, lcm_value\n",
    "\n",
    "# Example usage\n",
    "num1 = int(input(\"Enter first number: \"))\n",
    "num2 = int(input(\"Enter second number: \"))\n",
    "gcd_val, lcm_val = compute_gcd_lcm(num1, num2)\n",
    "\n",
    "print(f\"GCD of {num1} and {num2} is {gcd_val}\")\n",
    "print(f\"LCM of {num1} and {num2} is {lcm_val}\")\n"
   ]
  },
  {
   "cell_type": "code",
   "execution_count": null,
   "id": "6087fe59-b801-4e36-b542-edf0742d9f69",
   "metadata": {},
   "outputs": [],
   "source": []
  }
 ],
 "metadata": {
  "kernelspec": {
   "display_name": "Python 3 (ipykernel)",
   "language": "python",
   "name": "python3"
  },
  "language_info": {
   "codemirror_mode": {
    "name": "ipython",
    "version": 3
   },
   "file_extension": ".py",
   "mimetype": "text/x-python",
   "name": "python",
   "nbconvert_exporter": "python",
   "pygments_lexer": "ipython3",
   "version": "3.12.4"
  }
 },
 "nbformat": 4,
 "nbformat_minor": 5
}
