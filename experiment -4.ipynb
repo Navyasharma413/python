{
 "cells": [
  {
   "cell_type": "code",
   "execution_count": 3,
   "id": "ea39f616-064e-4e3c-9bc7-41552ca61019",
   "metadata": {},
   "outputs": [
    {
     "name": "stdout",
     "output_type": "stream",
     "text": [
      "I like apple\n",
      "I like banana\n",
      "I like cherry\n",
      "I like date\n",
      "I like elderberry\n",
      "The current number is: 10\n",
      "The current number is: 20\n",
      "The current number is: 30\n",
      "The current number is: 40\n",
      "The current number is: 50\n"
     ]
    }
   ],
   "source": [
    "# sequence_loop.py\n",
    "\n",
    "# Define a sequence (list of items)\n",
    "fruits = [\"apple\", \"banana\", \"cherry\", \"date\", \"elderberry\"]\n",
    "\n",
    "# Loop over the sequence\n",
    "for fruit in fruits:\n",
    "    print(f\"I like {fruit}\")\n",
    "    # loop_over_sequence.py\n",
    "\n",
    "# Define a sequence (list of numbers)\n",
    "numbers = [10, 20, 30, 40, 50]\n",
    "\n",
    "# Loop over the sequence\n",
    "for number in numbers:\n",
    "    print(f\"The current number is: {number}\")\n",
    "\n"
   ]
  },
  {
   "cell_type": "code",
   "execution_count": 5,
   "id": "6496279f-f225-42d2-b4f6-e5b511a691d0",
   "metadata": {},
   "outputs": [
    {
     "name": "stdin",
     "output_type": "stream",
     "text": [
      "Enter a number to start countdown:  6\n"
     ]
    },
    {
     "name": "stdout",
     "output_type": "stream",
     "text": [
      "6\n",
      "5\n",
      "4\n",
      "3\n",
      "2\n",
      "1\n",
      "0\n"
     ]
    }
   ],
   "source": [
    "# countdown.py\n",
    "\n",
    "# Ask the user to enter a number\n",
    "number = int(input(\"Enter a number to start countdown: \"))\n",
    "\n",
    "# Countdown using while loop\n",
    "while number >= 0:\n",
    "    print(number)\n",
    "    number -= 1\n"
   ]
  },
  {
   "cell_type": "code",
   "execution_count": 7,
   "id": "fc236c6d-3cc6-4677-8ce1-18b07ec71e6c",
   "metadata": {},
   "outputs": [
    {
     "name": "stdout",
     "output_type": "stream",
     "text": [
      "Original list of fruits: ['apple', 'banana', 'cherry', 'date']\n",
      "First fruit: apple\n",
      "Last fruit: date\n",
      "After adding a fruit: ['apple', 'banana', 'cherry', 'date', 'elderberry']\n",
      "After removing a fruit: ['apple', 'cherry', 'date', 'elderberry']\n",
      "After modifying a fruit: ['apple', 'blueberry', 'date', 'elderberry']\n",
      "List of fruits:\n",
      "- apple\n",
      "- blueberry\n",
      "- date\n",
      "- elderberry\n"
     ]
    }
   ],
   "source": [
    "# list_demo.py\n",
    "\n",
    "# Creating a list of fruits\n",
    "fruits = [\"apple\", \"banana\", \"cherry\", \"date\"]\n",
    "\n",
    "# Display the whole list\n",
    "print(\"Original list of fruits:\", fruits)\n",
    "\n",
    "# Accessing elements\n",
    "print(\"First fruit:\", fruits[0])\n",
    "print(\"Last fruit:\", fruits[-1])\n",
    "\n",
    "# Adding an element\n",
    "fruits.append(\"elderberry\")\n",
    "print(\"After adding a fruit:\", fruits)\n",
    "\n",
    "# Removing an element\n",
    "fruits.remove(\"banana\")\n",
    "print(\"After removing a fruit:\", fruits)\n",
    "\n",
    "# Modifying an element\n",
    "fruits[1] = \"blueberry\"\n",
    "print(\"After modifying a fruit:\", fruits)\n",
    "\n",
    "# Looping through the list\n",
    "print(\"List of fruits:\")\n",
    "for fruit in fruits:\n",
    "    print(\"-\", fruit)\n"
   ]
  },
  {
   "cell_type": "code",
   "execution_count": 9,
   "id": "f2ffd6ae-752d-4adc-a9f1-34e53a5e14b4",
   "metadata": {},
   "outputs": [
    {
     "name": "stdout",
     "output_type": "stream",
     "text": [
      "Tuple of colors: ('red', 'green', 'blue', 'yellow')\n",
      "First color: red\n",
      "Last color: yellow\n",
      "All colors:\n",
      "- red\n",
      "- green\n",
      "- blue\n",
      "- yellow\n",
      "Single item tuple: ('orange',)\n",
      "Unpacked values: red green blue yellow\n"
     ]
    }
   ],
   "source": [
    "# tuple_demo.py\n",
    "\n",
    "# Creating a tuple of colors\n",
    "colors = (\"red\", \"green\", \"blue\", \"yellow\")\n",
    "\n",
    "# Display the entire tuple\n",
    "print(\"Tuple of colors:\", colors)\n",
    "\n",
    "# Accessing elements by index\n",
    "print(\"First color:\", colors[0])\n",
    "print(\"Last color:\", colors[-1])\n",
    "\n",
    "# Looping through the tuple\n",
    "print(\"All colors:\")\n",
    "for color in colors:\n",
    "    print(\"-\", color)\n",
    "\n",
    "# Trying to modify a tuple (will raise an error if uncommented)\n",
    "# colors[0] = \"purple\"  # Tuples are immutable\n",
    "\n",
    "# Demonstrating tuple with one item (note the comma!)\n",
    "single_item_tuple = (\"orange\",)\n",
    "print(\"Single item tuple:\", single_item_tuple)\n",
    "\n",
    "# Tuple unpacking\n",
    "(r, g, b, y) = colors\n",
    "print(\"Unpacked values:\", r, g, b, y)\n"
   ]
  },
  {
   "cell_type": "code",
   "execution_count": null,
   "id": "4881bf5d-17db-4fa0-9b2b-caaa94abf140",
   "metadata": {},
   "outputs": [],
   "source": []
  }
 ],
 "metadata": {
  "kernelspec": {
   "display_name": "Python 3 (ipykernel)",
   "language": "python",
   "name": "python3"
  },
  "language_info": {
   "codemirror_mode": {
    "name": "ipython",
    "version": 3
   },
   "file_extension": ".py",
   "mimetype": "text/x-python",
   "name": "python",
   "nbconvert_exporter": "python",
   "pygments_lexer": "ipython3",
   "version": "3.12.4"
  }
 },
 "nbformat": 4,
 "nbformat_minor": 5
}
