{
 "cells": [
  {
   "cell_type": "code",
   "execution_count": 1,
   "id": "d3a63867-74e1-4ddd-86a5-389553f9c604",
   "metadata": {},
   "outputs": [
    {
     "name": "stdin",
     "output_type": "stream",
     "text": [
      "Enter x-coordinate of the first point:  10\n",
      "Enter y-coordinate of the first point:  20\n",
      "Enter x-coordinate of the second point:  5\n",
      "Enter y-coordinate of the second point:  8\n"
     ]
    },
    {
     "name": "stdout",
     "output_type": "stream",
     "text": [
      "The distance between the two points is 13.00\n"
     ]
    }
   ],
   "source": [
    "import math\n",
    "\n",
    "\n",
    "x1 = float(input(\"Enter x-coordinate of the first point: \"))\n",
    "y1 = float(input(\"Enter y-coordinate of the first point: \"))\n",
    "\n",
    "\n",
    "x2 = float(input(\"Enter x-coordinate of the second point: \"))\n",
    "y2 = float(input(\"Enter y-coordinate of the second point: \"))\n",
    "\n",
    "\n",
    "distance = math.sqrt((x2 - x1)**2 + (y2 - y1)**2)\n",
    "\n",
    "\n",
    "print(f\"The distance between the two points is {distance:.2f}\")\n"
   ]
  },
  {
   "cell_type": "code",
   "execution_count": 3,
   "id": "3ff4742b-0316-479f-8598-9624b585aff7",
   "metadata": {},
   "outputs": [
    {
     "name": "stdin",
     "output_type": "stream",
     "text": [
      "Enter the first number:  5\n",
      "Enter the second number:  6\n"
     ]
    },
    {
     "name": "stdout",
     "output_type": "stream",
     "text": [
      "The sum of 5.0 and 6.0 is 11.0\n"
     ]
    }
   ],
   "source": [
    "\n",
    "\n",
    "\n",
    "num1 = float(input(\"Enter the first number: \"))\n",
    "num2 = float(input(\"Enter the second number: \"))\n",
    "\n",
    "\n",
    "total = num1 + num2\n",
    "\n",
    "\n",
    "print(f\"The sum of {num1} and {num2} is {total}\")\n"
   ]
  },
  {
   "cell_type": "code",
   "execution_count": null,
   "id": "1c0b58db-93ff-4e28-8444-66c02d63cec9",
   "metadata": {},
   "outputs": [],
   "source": []
  }
 ],
 "metadata": {
  "kernelspec": {
   "display_name": "Python 3 (ipykernel)",
   "language": "python",
   "name": "python3"
  },
  "language_info": {
   "codemirror_mode": {
    "name": "ipython",
    "version": 3
   },
   "file_extension": ".py",
   "mimetype": "text/x-python",
   "name": "python",
   "nbconvert_exporter": "python",
   "pygments_lexer": "ipython3",
   "version": "3.12.4"
  }
 },
 "nbformat": 4,
 "nbformat_minor": 5
}
