{
 "cells": [
  {
   "cell_type": "code",
   "execution_count": 1,
   "id": "b99d1cc8-fd27-401a-b0af-93c66ba01d14",
   "metadata": {},
   "outputs": [
    {
     "name": "stdout",
     "output_type": "stream",
     "text": [
      "The sum of all prime numbers below 2000000 is 142913828922\n"
     ]
    }
   ],
   "source": [
    "# sum_of_primes.py\n",
    "\n",
    "def is_prime(n):\n",
    "    if n <= 1:\n",
    "        return False\n",
    "    for i in range(2, int(n**0.5) + 1):\n",
    "        if n % i == 0:\n",
    "            return False\n",
    "    return True\n",
    "\n",
    "def sum_of_primes(limit):\n",
    "    total_sum = 0\n",
    "    for number in range(2, limit):\n",
    "        if is_prime(number):\n",
    "            total_sum += number\n",
    "    return total_sum\n",
    "\n",
    "# Calculate the sum of all prime numbers below 2 million\n",
    "limit = 2000000\n",
    "result = sum_of_primes(limit)\n",
    "\n",
    "print(f\"The sum of all prime numbers below {limit} is {result}\")\n"
   ]
  },
  {
   "cell_type": "code",
   "execution_count": 4,
   "id": "edf95a8a-b09c-46da-98a5-7a45c7539b25",
   "metadata": {},
   "outputs": [
    {
     "name": "stdout",
     "output_type": "stream",
     "text": [
      "The sum of even Fibonacci numbers not exceeding 4000000 is 4613732\n"
     ]
    }
   ],
   "source": [
    "# sum_even_fibonacci.py\n",
    "\n",
    "def even_fibonacci_sum(limit):\n",
    "    # Initializing the first two Fibonacci numbers\n",
    "    a, b = 0, 1\n",
    "    total_sum = 0\n",
    "    \n",
    "    # Loop until the Fibonacci numbers exceed the limit\n",
    "    while b <= limit:\n",
    "        if b % 2 == 0:\n",
    "            total_sum += b\n",
    "        # Update the Fibonacci numbers\n",
    "        a, b = b, a + b\n",
    "        \n",
    "    return total_sum\n",
    "\n",
    "# Define the limit (4 million)\n",
    "limit = 4000000\n",
    "result = even_fibonacci_sum(limit)\n",
    "\n",
    "print(f\"The sum of even Fibonacci numbers not exceeding {limit} is {result}\")\n"
   ]
  },
  {
   "cell_type": "code",
   "execution_count": null,
   "id": "67fd5be4-8217-4fc8-b268-9610c414f8b3",
   "metadata": {},
   "outputs": [],
   "source": []
  }
 ],
 "metadata": {
  "kernelspec": {
   "display_name": "Python 3 (ipykernel)",
   "language": "python",
   "name": "python3"
  },
  "language_info": {
   "codemirror_mode": {
    "name": "ipython",
    "version": 3
   },
   "file_extension": ".py",
   "mimetype": "text/x-python",
   "name": "python",
   "nbconvert_exporter": "python",
   "pygments_lexer": "ipython3",
   "version": "3.12.4"
  }
 },
 "nbformat": 4,
 "nbformat_minor": 5
}
