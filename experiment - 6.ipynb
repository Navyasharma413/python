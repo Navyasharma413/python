{
 "cells": [
  {
   "cell_type": "code",
   "execution_count": 1,
   "id": "ab0d339f-0f5d-4c96-917a-89268de7b1aa",
   "metadata": {},
   "outputs": [
    {
     "name": "stdin",
     "output_type": "stream",
     "text": [
      "Enter a string:  4\n"
     ]
    },
    {
     "name": "stdout",
     "output_type": "stream",
     "text": [
      "Character count: {'4': 1}\n"
     ]
    }
   ],
   "source": [
    "# char_count.py\n",
    "\n",
    "def count_characters(input_string):\n",
    "    char_count = {}\n",
    "\n",
    "    # Loop through each character in the string\n",
    "    for char in input_string:\n",
    "        # If character is already in dictionary, increment its count\n",
    "        if char in char_count:\n",
    "            char_count[char] += 1\n",
    "        else:\n",
    "            # If character is not in dictionary, add it with count 1\n",
    "            char_count[char] = 1\n",
    "\n",
    "    return char_count\n",
    "\n",
    "# Input string\n",
    "input_string = input(\"Enter a string: \")\n",
    "\n",
    "# Get the character count\n",
    "result = count_characters(input_string)\n",
    "\n",
    "# Print the result\n",
    "print(\"Character count:\", result)\n"
   ]
  },
  {
   "cell_type": "code",
   "execution_count": null,
   "id": "1549dc2b-d64b-4298-91c4-f0ad2047a21d",
   "metadata": {},
   "outputs": [],
   "source": [
    "# split_join_birthday.py\n",
    "\n",
    "def trace_birthday():\n",
    "    # Using a dictionary to store a person's birthday\n",
    "    birthday_dict = {\n",
    "        \"name\": \"John Doe\",\n",
    "        \"birthdate\": \"1990-12-15\"\n",
    "    }\n",
    "\n",
    "    # Display the person's name and birthdate\n",
    "    print(f\"Name: {birthday_dict['name']}\")\n",
    "    print(f\"Birthdate: {birthday_dict['birthdate']}\")\n",
    "\n",
    "    # Splitting the birthdate into year, month, and day using split()\n",
    "    birthdate_parts = birthday_dict[\"birthdate\"].split(\"-\")\n",
    "    year, month, day = birthdate_parts\n",
    "\n",
    "    # Displaying split values\n",
    "    print(f\"Year: {year}\")\n",
    "    print(f\"Month: {month}\")\n",
    "    print(f\"Day: {day}\")\n",
    "\n",
    "    # Now let's join the parts back into a string using join()\n",
    "    joined_birthdate = \"-\".join([year, month, day])\n",
    "    print(f\"Reconstructed Birthdate: {joined_birthdate}\")\n",
    "\n",
    "# Call the function\n",
    "trace_birthday()\n"
   ]
  }
 ],
 "metadata": {
  "kernelspec": {
   "display_name": "Python 3 (ipykernel)",
   "language": "python",
   "name": "python3"
  },
  "language_info": {
   "codemirror_mode": {
    "name": "ipython",
    "version": 3
   },
   "file_extension": ".py",
   "mimetype": "text/x-python",
   "name": "python",
   "nbconvert_exporter": "python",
   "pygments_lexer": "ipython3",
   "version": "3.12.4"
  }
 },
 "nbformat": 4,
 "nbformat_minor": 5
}
